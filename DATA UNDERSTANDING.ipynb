{
 "cells": [
  {
   "cell_type": "markdown",
   "metadata": {},
   "source": [
    "<font size=\"5\"> DATA UNDERSTANDING </font>"
   ]
  },
  {
   "cell_type": "markdown",
   "metadata": {},
   "source": [
    "Our predictor or target variable will be 'SEVERITYCODE' because it is used measure the severity of an accident from 0 to 4 within the dataset.\n",
    "\n",
    "Severity codes are as follows:\n",
    "0: Little to no Probability (Clear Conditions)\n",
    "1: Very Low Probability — Chance or Property Damage\n",
    "2: Low Probability — Chance of Injury\n",
    "3: Mild Probability — Chance of Serious Injury\n",
    "4: High Probability — Chance of Fatality\n",
    "\n",
    "In it's original form, this data is not fit for analysis. For one, there are many columns that we will not use for this model.\n",
    "I have decided to focus on only four features: severity, weather conditions, road conditions, and light conditions, among others.\n",
    "Also, most of the features are of type object, when they should be numerical type.\n",
    "We must use label encoding to covert the features to our desired data type.\n",
    "Target feature is imbalance, so we use a simple statistical technique to balance it."
   ]
  }
 ],
 "metadata": {
  "kernelspec": {
   "display_name": "Python 3",
   "language": "python",
   "name": "python3"
  },
  "language_info": {
   "codemirror_mode": {
    "name": "ipython",
    "version": 3
   },
   "file_extension": ".py",
   "mimetype": "text/x-python",
   "name": "python",
   "nbconvert_exporter": "python",
   "pygments_lexer": "ipython3",
   "version": "3.8.3"
  }
 },
 "nbformat": 4,
 "nbformat_minor": 4
}
